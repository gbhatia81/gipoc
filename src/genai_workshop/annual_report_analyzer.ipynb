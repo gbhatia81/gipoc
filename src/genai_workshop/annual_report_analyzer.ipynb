{
 "cells": [
  {
   "cell_type": "markdown",
   "id": "8cdef65e",
   "metadata": {},
   "source": [
    "# Build AI based Annual report analyzer\n",
    "\n",
    "### Annual reports - Refer to following documents for the analysis.  \n",
    "- [Publicis Groupe 2022 Annual Report](annual_reports\\PublicisGroupe_2022.pdf)\n",
    "- [Omnicom 2022 Annual Report](annual_reports\\OmnicomGroup_2022.pdf)\n",
    "\n",
    "### Exercise overview and purpose\n",
    "\n",
    "This exercise is designed to learn and implement Retrieval-Augmented Generation (RAG) by creating a AI based annual report analyzer. \n",
    "This AI will leverage the 2022 annual reports of Publicis Groupe and Omnicom Group to assist users in analyzing and comparing performance of these 2 firms in year 2022.\n",
    "\n",
    "The exercise has following steps:\n",
    "1. Load documents\n",
    "2. ```Optional``` Clean up the documents\n",
    "3. Define chunking strategy\n",
    "4. Chunk the documents -  [references](\"https://python.langchain.com/docs/modules/data_connection/document_transformers/recursive_text_splitter\")\n",
    "5. Use embedding model and create a vector store - [references](\"https://python.langchain.com/docs/integrations/text_embedding/openai\")\n",
    "6. Create langchain retrieval chain -  [references](\"https://python.langchain.com/docs/modules/data_connection/retrievers/vectorstore\")\n",
    "7. Generate insights from the documents\n"
   ]
  },
  {
   "cell_type": "code",
   "execution_count": null,
   "id": "d5478ad8",
   "metadata": {},
   "outputs": [],
   "source": []
  },
  {
   "cell_type": "markdown",
   "id": "e926c208",
   "metadata": {},
   "source": [
    "### Task1. Load Publicis and Omnicom annual reports\n",
    "Responsible for ingesting data from the annual reports into langchain document format.  \n",
    "> **Hint:** Use **PyPDFDirectoryLoader** \n",
    "\n",
    "> 10 mins"
   ]
  },
  {
   "cell_type": "code",
   "execution_count": null,
   "id": "98b7c214",
   "metadata": {},
   "outputs": [],
   "source": []
  },
  {
   "cell_type": "markdown",
   "id": "e0bbc4e6",
   "metadata": {},
   "source": [
    "#### [Optional] Task2 : Clean the extracted documents\n",
    "> **Hint:** Remove extra spaces, additional line. [text_utils](utilities/text_utils.py) can be used for the cleanup\n",
    "\n",
    "> 10 mins"
   ]
  },
  {
   "cell_type": "code",
   "execution_count": null,
   "id": "9cbf7237",
   "metadata": {},
   "outputs": [],
   "source": []
  },
  {
   "cell_type": "markdown",
   "id": "bb64992a",
   "metadata": {},
   "source": [
    "#### Task3 : Define your chunking strategy \n",
    "Explain why you are using a particular chunk and overlap size. \n",
    "\n",
    "> 10 mins"
   ]
  },
  {
   "cell_type": "markdown",
   "id": "00b648f1",
   "metadata": {},
   "source": [
    "###### Write down the chunking strategy"
   ]
  },
  {
   "cell_type": "markdown",
   "id": "430173db",
   "metadata": {},
   "source": [
    "#### Task4 : Chunk the documents based on the chunking strategy\n",
    "This is the process of chunking the data. Define chunk size and overlap size  \n",
    "> **Hint:** Use **RecursiveCharacterTextSplitter** can be used to chunk the documents.\n",
    "\n",
    "> 10 mins"
   ]
  },
  {
   "cell_type": "code",
   "execution_count": null,
   "id": "97ab414b",
   "metadata": {},
   "outputs": [],
   "source": []
  },
  {
   "cell_type": "markdown",
   "id": "487b801c",
   "metadata": {},
   "source": [
    "#### [Optional] Task5 : Vizualize the chunk size  distribution\n",
    "> **Hint:** Use **Seaborn** for the visualizaion.\n",
    "\n",
    "> 10 mins"
   ]
  },
  {
   "cell_type": "code",
   "execution_count": null,
   "id": "29a8be96",
   "metadata": {},
   "outputs": [],
   "source": []
  },
  {
   "cell_type": "markdown",
   "id": "772e504f",
   "metadata": {},
   "source": [
    "#### Task6 : Create vector data store from chunked documents\n",
    "The embeddings are then stored in Chroma DB, making them retrievable for the RAG model.\n",
    "> **Hint:** use **ChromaDB** \n",
    "\n",
    "> 10 mins"
   ]
  },
  {
   "cell_type": "code",
   "execution_count": null,
   "id": "52ebc4b5",
   "metadata": {},
   "outputs": [],
   "source": []
  },
  {
   "cell_type": "markdown",
   "id": "2e5332cb",
   "metadata": {},
   "source": [
    "#### Task7 : Perform similarity search on vector db and cross verify with documents\n",
    "\n",
    "> 5 mins"
   ]
  },
  {
   "cell_type": "code",
   "execution_count": null,
   "id": "d105ed96",
   "metadata": {},
   "outputs": [],
   "source": []
  },
  {
   "cell_type": "markdown",
   "id": "56e199df",
   "metadata": {},
   "source": [
    "#### Task8 : Create prompt template for retrival chain \n",
    "Design a template that will be used to structure the queries for the RAG model.\n",
    ">  **Hint:** use **Prompt Template for RAG Search**: Design a template that will be used to structure the queries for RAG.\n",
    "\n",
    "> 10 mins"
   ]
  },
  {
   "cell_type": "code",
   "execution_count": null,
   "id": "4fd43448",
   "metadata": {},
   "outputs": [],
   "source": []
  },
  {
   "cell_type": "markdown",
   "id": "6691dac3",
   "metadata": {},
   "source": [
    "\n",
    "#### Task9 : Create QA - retrival chain \n",
    "Design a template that will be used to structure the queries for the RAG model.\n",
    ">  Use **RetrievalQA**: chain \n",
    "\n",
    "> 10 mins\n"
   ]
  },
  {
   "cell_type": "code",
   "execution_count": null,
   "id": "c239ca15",
   "metadata": {},
   "outputs": [],
   "source": []
  },
  {
   "cell_type": "markdown",
   "id": "1cdef4ac",
   "metadata": {},
   "source": [
    "## Generate insights"
   ]
  },
  {
   "cell_type": "markdown",
   "id": "d64b0482",
   "metadata": {},
   "source": [
    "#### Task 10. Find out Publicis Groupe and OmicomGroup commitment for reducing carbon emissions?"
   ]
  },
  {
   "cell_type": "code",
   "execution_count": null,
   "id": "7901d9bb",
   "metadata": {},
   "outputs": [],
   "source": []
  },
  {
   "cell_type": "markdown",
   "id": "b08ab87c",
   "metadata": {},
   "source": [
    "#### Task 11. Growth comparison of Omnicom and Publicis Groupe in year 2022"
   ]
  },
  {
   "cell_type": "code",
   "execution_count": null,
   "id": "ebb9861a",
   "metadata": {},
   "outputs": [],
   "source": []
  },
  {
   "cell_type": "markdown",
   "id": "d711c2ed",
   "metadata": {},
   "source": [
    "#### Task 12. Provide response in json structure - What are the Omnicom and Publicis Groupe targets and progress in terms of reducing carbon emissions and fighting against climate change? \n",
    "\n",
    "```\n",
    "schema = {\"data\" : [{\n",
    "                \"detail_response\":\"Detail response on climate control\",\n",
    "                \"company_name\":\"Publics Groupe\",\n",
    "                \"long_term_target\":\" some target\",\n",
    "                \"short_term_target\":\"some target\"\n",
    "            },{\n",
    "                \"detail_response\":\"Detail response on climate control\",\n",
    "                \"company_name\":\"OmniconGroup\",\n",
    "                \"long_term_target\":\"some target\",\n",
    "                \"short_term_target\":\"some target\"\n",
    "            }]}\n",
    "```\n",
    "\n",
    "\n",
    "> 5 mins"
   ]
  },
  {
   "cell_type": "code",
   "execution_count": null,
   "id": "9b48dbfa",
   "metadata": {},
   "outputs": [],
   "source": []
  },
  {
   "cell_type": "markdown",
   "id": "9087ce95",
   "metadata": {},
   "source": [
    "#### Task 13. Create a chatbot for Q/A gradio \n",
    "> 5 mins"
   ]
  },
  {
   "cell_type": "code",
   "execution_count": null,
   "id": "6fb178a5",
   "metadata": {},
   "outputs": [],
   "source": []
  },
  {
   "cell_type": "markdown",
   "id": "7a3948c3",
   "metadata": {},
   "source": [
    "#### Task 14. Extract the financial statement of Publicis groupe and Omnicom groupe "
   ]
  },
  {
   "cell_type": "code",
   "execution_count": null,
   "id": "c34e1e40",
   "metadata": {},
   "outputs": [],
   "source": []
  },
  {
   "cell_type": "markdown",
   "id": "59c27ef5",
   "metadata": {},
   "source": [
    "#### Task 15. Provide a growth comparison of Omnicom and Publicis Groupe in 2022 in csv format.\n",
    "\n",
    "```\n",
    "  Growth factor,Publicis Groupe,OmnicomGroup\n",
    "  factor1,      PSValue1,        OmnicomValue1\n",
    "  factor2,      PSValue2,        OmnicomValue2\n",
    "  factor3,      PSValue3,        OmnicomValue3\n",
    "  factor4,      PSValue4,        OmnicomValue4\n",
    "```\n",
    "\n",
    "> 5 mins"
   ]
  },
  {
   "cell_type": "code",
   "execution_count": null,
   "id": "74c8b9f5",
   "metadata": {},
   "outputs": [],
   "source": []
  },
  {
   "cell_type": "markdown",
   "id": "4f87ce9d",
   "metadata": {},
   "source": [
    "#### Task 16. What were the acquisitions of Omnicom and Publicis Groupe which contributed to market positioning and capabilities? Provide results in json format\n",
    "```\n",
    "schema = {\"data\" : [{\n",
    "                \"acqusition_name\":\"company1\",\n",
    "                \"acquired_by\":\"company1 name\",\n",
    "                \"region\":\" some resion\",\n",
    "                \"year\":\"some year\"\n",
    "                \"detail_comments\" :\"\",\n",
    "            },{\n",
    "                \"acqusition_name\":\"company1\",\n",
    "                \"acquired_by\":\"company1 name\",\n",
    "                \"region\":\" some resion\",\n",
    "                \"year\":\"some year\",\n",
    "                 \"detail_comments\" :\"\",\n",
    "            }\n",
    "            ...\n",
    "            ....\n",
    "            ]}\n",
    "```\n",
    "\n",
    "> 5 mins"
   ]
  },
  {
   "cell_type": "code",
   "execution_count": null,
   "id": "b3dc166c",
   "metadata": {},
   "outputs": [],
   "source": []
  },
  {
   "cell_type": "markdown",
   "id": "a14d40c4",
   "metadata": {},
   "source": [
    "#### Task 17. Extract the financial statement of Publicis groupe and Omnicom groupe\n",
    "\n",
    "```\n",
    "  Company name,         Revenue, Operating profit, Net income, ..........., comments\n",
    "  Publicis Groupe,      valuex1,  valuex2,         valuex3,    ..........., comments\n",
    "  OmnicomGroup,         valuey,   valuey2          valuey3 ,  ............, comments\n",
    " \n",
    "```\n",
    "\n",
    "> 5 mins"
   ]
  },
  {
   "cell_type": "code",
   "execution_count": null,
   "id": "40eca136",
   "metadata": {},
   "outputs": [],
   "source": []
  }
 ],
 "metadata": {
  "kernelspec": {
   "display_name": "Python 3 (ipykernel)",
   "language": "python",
   "name": "python3"
  },
  "language_info": {
   "codemirror_mode": {
    "name": "ipython",
    "version": 3
   },
   "file_extension": ".py",
   "mimetype": "text/x-python",
   "name": "python",
   "nbconvert_exporter": "python",
   "pygments_lexer": "ipython3",
   "version": "3.10.12"
  }
 },
 "nbformat": 4,
 "nbformat_minor": 5
}
