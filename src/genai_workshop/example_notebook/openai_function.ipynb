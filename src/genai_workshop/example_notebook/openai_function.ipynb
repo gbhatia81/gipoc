{
 "cells": [
  {
   "cell_type": "markdown",
   "id": "1c9846d5",
   "metadata": {},
   "source": [
    "## Import dependencies "
   ]
  },
  {
   "cell_type": "code",
   "execution_count": 1,
   "id": "43ae1b6d",
   "metadata": {},
   "outputs": [
    {
     "name": "stdout",
     "output_type": "stream",
     "text": [
      "['/workspaces/genai-ws/genai_workshop', '/workspaces/genai-ws/genai_workshop/example_notebook', '/usr/lib/python310.zip', '/usr/lib/python3.10', '/usr/lib/python3.10/lib-dynload', '', '/usr/local/lib/python3.10/dist-packages', '/usr/lib/python3/dist-packages']\n"
     ]
    }
   ],
   "source": [
    "## Set path context\n",
    "%load_ext autoreload\n",
    "%autoreload 2\n",
    "import os\n",
    "import sys\n",
    "module_path = os.path.abspath(os.path.join('../')) # or the path to your source code\n",
    "sys.path.insert(0, module_path)\n",
    "print(sys.path)"
   ]
  },
  {
   "cell_type": "code",
   "execution_count": 2,
   "id": "408a42a2",
   "metadata": {},
   "outputs": [],
   "source": [
    "# --------------------------------------------------------------\n",
    "# Import Modules\n",
    "# --------------------------------------------------------------\n",
    "\n",
    "from prompt_utils.openai_utils import get_openai_chat_model\n",
    "import os\n",
    "import json\n",
    "from datetime import datetime, timedelta\n",
    "from openai import OpenAI\n"
   ]
  },
  {
   "cell_type": "markdown",
   "id": "dddaf1b2",
   "metadata": {},
   "source": [
    "### Open AI function call "
   ]
  },
  {
   "cell_type": "code",
   "execution_count": 3,
   "id": "745d8264",
   "metadata": {},
   "outputs": [
    {
     "name": "stdout",
     "output_type": "stream",
     "text": [
      "I'm sorry, but as an AI language model, I don't have access to real-time information. It's best to check with the airlines or a travel website for the most up-to-date flight schedules.\n"
     ]
    }
   ],
   "source": [
    "\n",
    "user_prompt = \"\"\"\n",
    "    When's the next flight from Amsterdam to New York?\"\n",
    "\"\"\"\n",
    "\n",
    "\n",
    "# --------------------------------------------------------------\n",
    "# Ask ChatGPT a Question\n",
    "# --------------------------------------------------------------\n",
    "\n",
    "completion = OpenAI().chat.completions.create(\n",
    "    model=\"gpt-3.5-turbo-0613\",\n",
    "    messages=[\n",
    "        {\n",
    "            \"role\": \"user\",\n",
    "            \"content\": user_prompt,\n",
    "        },\n",
    "    ],\n",
    ")\n",
    "\n",
    "output = completion.choices[0].message.content\n",
    "print(output)\n"
   ]
  },
  {
   "cell_type": "code",
   "execution_count": 4,
   "id": "84984871",
   "metadata": {},
   "outputs": [
    {
     "name": "stdout",
     "output_type": "stream",
     "text": [
      "ChatCompletionMessage(content=None, role='assistant', function_call=FunctionCall(arguments='{\\n  \"loc_origin\": \"AMS\",\\n  \"loc_destination\": \"JFK\"\\n}', name='get_flight_info'), tool_calls=None)\n"
     ]
    }
   ],
   "source": [
    "# --------------------------------------------------------------\n",
    "# Use OpenAI’s Function Calling Feature\n",
    "# --------------------------------------------------------------\n",
    "\n",
    "function_descriptions = [\n",
    "    {\n",
    "        \"name\": \"get_flight_info\",\n",
    "        \"description\": \"Get flight information between two locations.\",\n",
    "        \"parameters\": {\n",
    "            \"type\": \"object\",\n",
    "            \"properties\": {\n",
    "                \"loc_origin\": {\n",
    "                    \"type\": \"string\",\n",
    "                    \"description\": \"The departure airport, e.g. DUS\",\n",
    "                },\n",
    "                \"loc_destination\": {\n",
    "                    \"type\": \"string\",\n",
    "                    \"description\": \"The destination airport, e.g. HAM\",\n",
    "                },\n",
    "            },\n",
    "            \"required\": [\"loc_origin\", \"loc_destination\"],\n",
    "        },\n",
    "    },\n",
    "    \n",
    "]\n",
    "\n",
    "\n",
    "completion = OpenAI().chat.completions.create(\n",
    "    model=\"gpt-3.5-turbo-0613\",\n",
    "    messages=[{\"role\": \"user\", \"content\": user_prompt}],\n",
    "    # Add function calling\n",
    "    functions=function_descriptions,\n",
    "    function_call=\"auto\",  # specify the function call\n",
    ")\n",
    "\n",
    "\n",
    "# It automatically fills the arguments with correct info based on the prompt\n",
    "# Note: the function does not exist yet\n",
    "\n",
    "output = completion.choices[0].message\n",
    "print(output)"
   ]
  },
  {
   "cell_type": "code",
   "execution_count": 5,
   "id": "01e65486",
   "metadata": {},
   "outputs": [
    {
     "name": "stdout",
     "output_type": "stream",
     "text": [
      "AMS\n",
      "JFK\n",
      "{'loc_origin': 'AMS', 'loc_destination': 'JFK'}\n"
     ]
    }
   ],
   "source": [
    "\n",
    "# --------------------------------------------------------------\n",
    "# Add a Function\n",
    "# --------------------------------------------------------------\n",
    "\n",
    "\n",
    "def get_flight_info(loc_origin, loc_destination):\n",
    "    \"\"\"Get flight information between two locations.\"\"\"\n",
    "\n",
    "    # Example output returned from an API or database\n",
    "    flight_info = {\n",
    "        \"loc_origin\": loc_origin,\n",
    "        \"loc_destination\": loc_destination,\n",
    "        \"datetime\": str(datetime.now() + timedelta(hours=2)),\n",
    "        \"airline\": \"KLM\",\n",
    "        \"flight\": \"KL643\",\n",
    "    }\n",
    "\n",
    "    return json.dumps(flight_info)\n",
    "\n",
    "\n",
    "# Use the LLM output to manually call the function\n",
    "# The json.loads function converts the string to a Python object\n",
    "\n",
    "origin = json.loads(output.function_call.arguments).get(\"loc_origin\")\n",
    "destination = json.loads(output.function_call.arguments).get(\"loc_destination\")\n",
    "params = json.loads(output.function_call.arguments)\n",
    "type(params)\n",
    "\n",
    "print(origin)\n",
    "print(destination)\n",
    "print(params)\n"
   ]
  },
  {
   "cell_type": "code",
   "execution_count": 6,
   "id": "686099c6",
   "metadata": {},
   "outputs": [
    {
     "name": "stdout",
     "output_type": "stream",
     "text": [
      "{\"loc_origin\": \"AMS\", \"loc_destination\": \"JFK\", \"datetime\": \"2024-02-12 04:24:36.104475\", \"airline\": \"KLM\", \"flight\": \"KL643\"}\n"
     ]
    }
   ],
   "source": [
    "\n",
    "# Call the function second time\n",
    "\n",
    "chosen_function = eval(output.function_call.name)\n",
    "flight = chosen_function(**params)\n",
    "\n",
    "print(flight)\n"
   ]
  },
  {
   "cell_type": "code",
   "execution_count": 7,
   "id": "07afe6ea",
   "metadata": {},
   "outputs": [
    {
     "name": "stdout",
     "output_type": "stream",
     "text": [
      "The next flight from Amsterdam (AMS) to New York (JFK) is on February 12, 2024. The flight is operated by KLM (airline) and the flight number is KL643.\n"
     ]
    }
   ],
   "source": [
    "# --------------------------------------------------------------\n",
    "# Add function result to the prompt for a final answer\n",
    "# --------------------------------------------------------------\n",
    "\n",
    "# The key is to add the function output back to the messages with role: function\n",
    "second_completion = OpenAI().chat.completions.create(\n",
    "    model=\"gpt-3.5-turbo-0613\",\n",
    "    messages=[\n",
    "        {\"role\": \"user\", \"content\": user_prompt},\n",
    "        {\"role\": \"function\", \"name\": output.function_call.name, \"content\": flight},\n",
    "    ],\n",
    "    functions=function_descriptions,\n",
    ")\n",
    "response = second_completion.choices[0].message.content\n",
    "print(response)"
   ]
  }
 ],
 "metadata": {
  "kernelspec": {
   "display_name": "Python 3 (ipykernel)",
   "language": "python",
   "name": "python3"
  },
  "language_info": {
   "codemirror_mode": {
    "name": "ipython",
    "version": 3
   },
   "file_extension": ".py",
   "mimetype": "text/x-python",
   "name": "python",
   "nbconvert_exporter": "python",
   "pygments_lexer": "ipython3",
   "version": "3.10.12"
  }
 },
 "nbformat": 4,
 "nbformat_minor": 5
}
