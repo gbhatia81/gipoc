{
 "cells": [
  {
   "cell_type": "markdown",
   "id": "1c9846d5",
   "metadata": {},
   "source": [
    "## OpenAI playground\n",
    "https://platform.openai.com/playground"
   ]
  },
  {
   "cell_type": "code",
   "execution_count": 1,
   "id": "5120c4a8",
   "metadata": {},
   "outputs": [
    {
     "name": "stdout",
     "output_type": "stream",
     "text": [
      "['/workspaces/prep-work-ggn/genai_workshop', '/workspaces/prep-work-ggn/genai_workshop/example_notebook', '/usr/lib/python310.zip', '/usr/lib/python3.10', '/usr/lib/python3.10/lib-dynload', '', '/usr/local/lib/python3.10/dist-packages', '/usr/lib/python3/dist-packages']\n"
     ]
    }
   ],
   "source": [
    "## Set path context\n",
    "%load_ext autoreload\n",
    "%autoreload 2\n",
    "import os\n",
    "import sys\n",
    "module_path = os.path.abspath(os.path.join('../')) # or the path to your source code\n",
    "sys.path.insert(0, module_path)\n",
    "print(sys.path)"
   ]
  },
  {
   "cell_type": "markdown",
   "id": "6fa35ff0",
   "metadata": {},
   "source": [
    "## Import dependencies "
   ]
  },
  {
   "cell_type": "code",
   "execution_count": 2,
   "id": "408a42a2",
   "metadata": {},
   "outputs": [],
   "source": [
    "\n",
    "from langchain.llms import OpenAI\n",
    "from langchain.agents import Tool, initialize_agent\n",
    "from langchain.chat_models import ChatOpenAI\n",
    "from langchain.tools import DuckDuckGoSearchRun\n",
    "from langchain.utilities import WikipediaAPIWrapper\n",
    "from langchain import OpenAI, LLMMathChain\n",
    "from langchain.chains import LLMChain\n",
    "from langchain.agents.agent_types import AgentType\n",
    "from prompt_utils.openai_utils import get_openai_chat_model\n",
    "\n",
    "import os\n",
    "import json\n",
    "import openai\n",
    "from datetime import datetime, timedelta\n",
    "from dotenv import load_dotenv\n",
    "from langchain.chat_models import ChatOpenAI\n",
    "from langchain.schema import HumanMessage, AIMessage, ChatMessage"
   ]
  },
  {
   "cell_type": "markdown",
   "id": "dddaf1b2",
   "metadata": {},
   "source": [
    "### Open AI function call - only one function can be called at a time"
   ]
  },
  {
   "cell_type": "code",
   "execution_count": 3,
   "id": "a99a3577",
   "metadata": {},
   "outputs": [
    {
     "name": "stderr",
     "output_type": "stream",
     "text": [
      "/usr/local/lib/python3.10/dist-packages/langchain_core/_api/deprecation.py:117: LangChainDeprecationWarning: The class `langchain_community.chat_models.openai.ChatOpenAI` was deprecated in langchain-community 0.0.10 and will be removed in 0.2.0. An updated version of the class exists in the langchain-openai package and should be used instead. To use it run `pip install -U langchain-openai` and import as `from langchain_openai import ChatOpenAI`.\n",
      "  warn_deprecated(\n"
     ]
    }
   ],
   "source": [
    "# --------------------------------------------------------------\n",
    "# Make It Conversational With Langchain\n",
    "# --------------------------------------------------------------\n",
    "\n",
    "llm = ChatOpenAI(model=\"gpt-3.5-turbo-0613\", temperature=0)"
   ]
  },
  {
   "cell_type": "code",
   "execution_count": 4,
   "id": "c88cf60e",
   "metadata": {},
   "outputs": [],
   "source": [
    "defined_functions = [\n",
    "{\n",
    "\t\"name\": \"get_pm_name\",\n",
    "\t\"description\": \"Given a country, find the full name of the PM of the country\",\n",
    "\t\"parameters\": {\n",
    "\t\t\"type\": \"object\",\n",
    "\t\t\"properties\": {\n",
    "\t\t\t\"country\": {\n",
    "\t\t\t\t\"type\": \"string\",\n",
    "\t\t\t\t\"description\": \"This is the name of a country\"\n",
    "\t\t\t}\n",
    "\t\t},\n",
    "\t\t\"required\": [\n",
    "\t\t\t\"country\"\n",
    "\t\t]\n",
    "\t}\n",
    "}\n",
    "]\n"
   ]
  },
  {
   "cell_type": "code",
   "execution_count": 5,
   "id": "8e675cf2",
   "metadata": {},
   "outputs": [
    {
     "name": "stderr",
     "output_type": "stream",
     "text": [
      "/usr/local/lib/python3.10/dist-packages/langchain_core/_api/deprecation.py:117: LangChainDeprecationWarning: The function `predict_messages` was deprecated in LangChain 0.1.7 and will be removed in 0.2.0. Use invoke instead.\n",
      "  warn_deprecated(\n"
     ]
    },
    {
     "data": {
      "text/plain": [
       "AIMessage(content='', additional_kwargs={'function_call': {'arguments': '{\\n  \"country\": \"India\"\\n}', 'name': 'get_pm_name'}})"
      ]
     },
     "execution_count": 5,
     "metadata": {},
     "output_type": "execute_result"
    }
   ],
   "source": [
    "prompt = \"Who is the PM of India ?\" \n",
    "\n",
    "llm.predict_messages(\n",
    "    [HumanMessage(content=prompt)], functions=defined_functions\n",
    ")\n"
   ]
  }
 ],
 "metadata": {
  "kernelspec": {
   "display_name": "Python 3 (ipykernel)",
   "language": "python",
   "name": "python3"
  },
  "language_info": {
   "codemirror_mode": {
    "name": "ipython",
    "version": 3
   },
   "file_extension": ".py",
   "mimetype": "text/x-python",
   "name": "python",
   "nbconvert_exporter": "python",
   "pygments_lexer": "ipython3",
   "version": "3.10.12"
  }
 },
 "nbformat": 4,
 "nbformat_minor": 5
}
