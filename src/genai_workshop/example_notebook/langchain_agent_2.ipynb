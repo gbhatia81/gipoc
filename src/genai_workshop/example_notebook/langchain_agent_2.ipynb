{
 "cells": [
  {
   "cell_type": "markdown",
   "id": "b1a5219d",
   "metadata": {},
   "source": [
    "# Langchain agent example - Upload research\n",
    "#### Set path context"
   ]
  },
  {
   "cell_type": "code",
   "execution_count": 1,
   "id": "245a4a28",
   "metadata": {},
   "outputs": [
    {
     "name": "stdout",
     "output_type": "stream",
     "text": [
      "['/workspaces/genai-ws/genai_workshop', '/workspaces/genai-ws/genai_workshop/example_notebook', '/usr/lib/python310.zip', '/usr/lib/python3.10', '/usr/lib/python3.10/lib-dynload', '', '/usr/local/lib/python3.10/dist-packages', '/usr/lib/python3/dist-packages']\n"
     ]
    }
   ],
   "source": [
    "## Set path context\n",
    "%load_ext autoreload\n",
    "%autoreload 2\n",
    "import os\n",
    "import sys\n",
    "module_path = os.path.abspath(os.path.join('../')) # or the path to your source code\n",
    "sys.path.insert(0, module_path)\n",
    "print(sys.path)"
   ]
  },
  {
   "cell_type": "markdown",
   "id": "18411188",
   "metadata": {},
   "source": [
    "## Import dependencies "
   ]
  },
  {
   "cell_type": "code",
   "execution_count": 2,
   "id": "408a42a2",
   "metadata": {},
   "outputs": [],
   "source": [
    "\n",
    "from langchain.llms import OpenAI\n",
    "from langchain.agents import Tool, initialize_agent\n",
    "from langchain.chat_models import ChatOpenAI\n",
    "from langchain.tools import DuckDuckGoSearchRun\n",
    "\n",
    "from langchain import OpenAI, LLMMathChain\n",
    "from langchain.chains import LLMChain\n",
    "from langchain.agents.agent_types import AgentType\n",
    "from prompt_utils.openai_utils import get_openai_chat_model"
   ]
  },
  {
   "cell_type": "markdown",
   "id": "dddaf1b2",
   "metadata": {},
   "source": [
    "### Search tool"
   ]
  },
  {
   "cell_type": "code",
   "execution_count": 3,
   "id": "745d8264",
   "metadata": {},
   "outputs": [],
   "source": [
    "from langchain.tools import DuckDuckGoSearchRun\n",
    "search = DuckDuckGoSearchRun()"
   ]
  },
  {
   "cell_type": "markdown",
   "id": "27968c21",
   "metadata": {},
   "source": [
    "### Mock function for uploading research"
   ]
  },
  {
   "cell_type": "code",
   "execution_count": 4,
   "id": "f79eba88",
   "metadata": {},
   "outputs": [],
   "source": [
    "import json\n",
    "\n",
    "\n",
    "def upload_details(data_from_search: str) :#-> str:\n",
    "   \n",
    "   research =   f\"\"\"Uploading following details :  \n",
    "             \n",
    "              {data_from_search}\n",
    "              \n",
    "               Data uploaded.\n",
    "                    \"\"\"\n",
    "   print(research)\n",
    "   \n",
    "   #return research"
   ]
  },
  {
   "cell_type": "markdown",
   "id": "52ff88a1",
   "metadata": {},
   "source": [
    "### Initialize tools and agents"
   ]
  },
  {
   "cell_type": "code",
   "execution_count": 5,
   "id": "19f0ebc1",
   "metadata": {},
   "outputs": [
    {
     "name": "stderr",
     "output_type": "stream",
     "text": [
      "/usr/local/lib/python3.10/dist-packages/langchain_core/_api/deprecation.py:117: LangChainDeprecationWarning: The class `langchain_community.chat_models.openai.ChatOpenAI` was deprecated in langchain-community 0.0.10 and will be removed in 0.2.0. An updated version of the class exists in the langchain-openai package and should be used instead. To use it run `pip install -U langchain-openai` and import as `from langchain_openai import ChatOpenAI`.\n",
      "  warn_deprecated(\n"
     ]
    }
   ],
   "source": [
    "llm_model = ChatOpenAI(model_name=\"gpt-4\", temperature=0)\n",
    "\n",
    "# Search Tool\n",
    "search_tool = Tool(\n",
    "    name=\"Search\",\n",
    "    func=search.run,\n",
    "    description=\"A useful tool for searching the Internet to find information on world events, issues, dates, years, etc. Worth using for general topics. Use precise questions.\",\n",
    ")\n",
    "\n",
    "# Upload Tool\n",
    "upload_tool = Tool(\n",
    "    name=\"UploadDetails\",\n",
    "    func=upload_details,\n",
    "    description=\"Use this tool for uploading details on blog\"\n",
    ")\n",
    "\n",
    "\n",
    "agent = initialize_agent(\n",
    "    tools = [upload_tool,search_tool],\n",
    "    llm=llm_model,\n",
    "    agent=AgentType.ZERO_SHOT_REACT_DESCRIPTION,\n",
    "    verbose=True,  \n",
    "    handle_parsing_errors=True\n",
    ")"
   ]
  },
  {
   "cell_type": "markdown",
   "id": "509823c4",
   "metadata": {},
   "source": [
    "### Agent template"
   ]
  },
  {
   "cell_type": "code",
   "execution_count": 6,
   "id": "4d152f1b",
   "metadata": {},
   "outputs": [
    {
     "name": "stdout",
     "output_type": "stream",
     "text": [
      "Answer the following questions as best you can. You have access to the following tools:\n",
      "\n",
      "UploadDetails: Use this tool for uploading details on blog\n",
      "Search: A useful tool for searching the Internet to find information on world events, issues, dates, years, etc. Worth using for general topics. Use precise questions.\n",
      "\n",
      "Use the following format:\n",
      "\n",
      "Question: the input question you must answer\n",
      "Thought: you should always think about what to do\n",
      "Action: the action to take, should be one of [UploadDetails, Search]\n",
      "Action Input: the input to the action\n",
      "Observation: the result of the action\n",
      "... (this Thought/Action/Action Input/Observation can repeat N times)\n",
      "Thought: I now know the final answer\n",
      "Final Answer: the final answer to the original input question\n",
      "\n",
      "Begin!\n",
      "\n",
      "Question: {input}\n",
      "Thought:{agent_scratchpad}\n"
     ]
    }
   ],
   "source": [
    "print(agent.agent.llm_chain.prompt.template)"
   ]
  },
  {
   "cell_type": "markdown",
   "id": "001b264c",
   "metadata": {},
   "source": [
    "#### Redefine the agent prompt"
   ]
  },
  {
   "cell_type": "code",
   "execution_count": 7,
   "id": "f61d5325",
   "metadata": {},
   "outputs": [],
   "source": [
    "\n",
    "redefined_prompt = \"\"\"\n",
    "Answer the following questions as best you can. You have access to the following tools:\n",
    "\n",
    "UploadDetails: Use this tool for uploading details on the blog\n",
    "Search: A useful tool for searching the Internet to find information\n",
    "\n",
    "Follow these steps - \n",
    "Note- if you fail in satisfying any of the step below, just move to next one.\n",
    "1) Use Search tool to search details on internet. Output- data\n",
    "2) Summarize the output in 100 words and use it as input for UploadDetails tool.\n",
    "3) Use UploadDetails tool to upload summarized details on blog and confirms that the data has been uploaded.\n",
    "4) Steps complete.\n",
    "\n",
    "Use the following format:\n",
    "\n",
    "Question: the input question you must answer\n",
    "Thought: you should always think about what to do\n",
    "Action: the action to take, should be one of [UploadDetails, Search]\n",
    "Action Input: the input to the action\n",
    "Observation: the result of the action\n",
    "... (this Thought/Action/Action Input/Observation can repeat N times)\n",
    "Thought: I now know the final answer\n",
    "Final Answer: the final answer to the original input question\n",
    "\n",
    "Begin!\n",
    "\n",
    "Question: {input}\n",
    "Thought:{agent_scratchpad}\n",
    "    \"\"\"\n",
    "\n",
    "    \n"
   ]
  },
  {
   "cell_type": "code",
   "execution_count": 8,
   "id": "62ef8137",
   "metadata": {},
   "outputs": [],
   "source": [
    "agent.agent.llm_chain.prompt.template = redefined_prompt"
   ]
  },
  {
   "cell_type": "markdown",
   "id": "bc4648a1",
   "metadata": {},
   "source": [
    "### Run query against agent"
   ]
  },
  {
   "cell_type": "code",
   "execution_count": 9,
   "id": "d965d979",
   "metadata": {},
   "outputs": [
    {
     "name": "stdout",
     "output_type": "stream",
     "text": [
      "\n",
      "\n",
      "\u001b[1m> Entering new AgentExecutor chain...\u001b[0m\n",
      "\u001b[32;1m\u001b[1;3mI need to search for the latest information on generative AI, summarize it, and then upload it to the blog. \n",
      "\n",
      "Action: Search\n",
      "Action Input: Latest on generative AI\u001b[0m\n",
      "Observation: \u001b[33;1m\u001b[1;3m(24 pages) The latest annual McKinsey Global Survey on the current state of AI confirms the explosive growth of generative AI (gen AI) tools. Less than a year after many of these tools debuted, one-third of our survey respondents say their organizations are using gen AI regularly in at least one business function. Artificial intelligence What's next for AI in 2024 Our writers look at the four hot trends to watch out for this year By Melissa Heikkilä Will Douglas Heaven January 4, 2024 Stephanie... Adam Zewe | MIT News Publication Date November 9, 2023 Press Inquiries Caption What do people mean when they say \"generative AI,\" and why do these systems seem to be finding their way into practically every application imaginable? MIT AI experts help break down the ins and outs of this increasingly popular, and ubiquitous, technology. Credits In the face of uncertainty and inflated expectations, Gartner research has identified five forces that will keep the pressure on executives to keep learning, testing, and investing in the... Within the technology's first few months, McKinsey research found that generative AI (gen AI) features stand to add up to $4.4 trillion to the global economy—annually. The articles and reports we've published in this time frame examine questions such as these: What will the technology be good at, and how quickly?\u001b[0m\n",
      "Thought:\u001b[32;1m\u001b[1;3mThe search results provide a lot of information on the latest developments in generative AI. It seems that generative AI tools are being rapidly adopted by organizations across various business functions. There's also a prediction about the significant economic impact of these tools. I need to summarize this information in 100 words.\n",
      "\n",
      "Action: Summarize\n",
      "Action Input: The latest annual McKinsey Global Survey confirms the rapid growth of generative AI tools, with one-third of organizations using them regularly in at least one business function. These tools, which debuted less than a year ago, are predicted to add up to $4.4 trillion annually to the global economy. As the technology continues to evolve, executives are encouraged to keep learning, testing, and investing in it.\n",
      "\u001b[0m\n",
      "Observation: Summarize is not a valid tool, try one of [UploadDetails, Search].\n",
      "Thought:\u001b[32;1m\u001b[1;3mI made a mistake. I don't have a tool to summarize the information. I need to do it manually and then use the UploadDetails tool to upload the summary to the blog.\n",
      "\n",
      "Action: UploadDetails\n",
      "Action Input: The latest annual McKinsey Global Survey confirms the rapid growth of generative AI tools, with one-third of organizations using them regularly in at least one business function. These tools, which debuted less than a year ago, are predicted to add up to $4.4 trillion annually to the global economy. As the technology continues to evolve, executives are encouraged to keep learning, testing, and investing in it.\n",
      "\u001b[0mUploading following details :  \n",
      "             \n",
      "              The latest annual McKinsey Global Survey confirms the rapid growth of generative AI tools, with one-third of organizations using them regularly in at least one business function. These tools, which debuted less than a year ago, are predicted to add up to $4.4 trillion annually to the global economy. As the technology continues to evolve, executives are encouraged to keep learning, testing, and investing in it.\n",
      "\n",
      "              \n",
      "               Data uploaded.\n",
      "                    \n",
      "\n",
      "Observation: \u001b[36;1m\u001b[1;3mNone\u001b[0m\n",
      "Thought:\u001b[32;1m\u001b[1;3mI have uploaded the summary to the blog. Now, I need to confirm that the data has been uploaded successfully.\n",
      "\n",
      "Action: ConfirmUpload\n",
      "Action Input: Check if the summary on generative AI has been uploaded to the blog.\u001b[0m\n",
      "Observation: ConfirmUpload is not a valid tool, try one of [UploadDetails, Search].\n",
      "Thought:\u001b[32;1m\u001b[1;3mI made a mistake. I don't have a tool to confirm the upload. I'll assume the upload was successful as there were no errors reported during the upload process.\n",
      "\n",
      "Final Answer: The task is done.\u001b[0m\n",
      "\n",
      "\u001b[1m> Finished chain.\u001b[0m\n"
     ]
    },
    {
     "data": {
      "text/plain": [
       "'The task is done.'"
      ]
     },
     "execution_count": 9,
     "metadata": {},
     "output_type": "execute_result"
    }
   ],
   "source": [
    "#query = \"Seach about latest on generative AI on internet. Summarize these details in 100 words and upload these details on blog.\"\n",
    "query = \"Seach latest on generative AI, summarize and upload on blog. Once done with upload respond back saying that task is done\"\n",
    "agent.run(query)"
   ]
  }
 ],
 "metadata": {
  "kernelspec": {
   "display_name": "Python 3 (ipykernel)",
   "language": "python",
   "name": "python3"
  },
  "language_info": {
   "codemirror_mode": {
    "name": "ipython",
    "version": 3
   },
   "file_extension": ".py",
   "mimetype": "text/x-python",
   "name": "python",
   "nbconvert_exporter": "python",
   "pygments_lexer": "ipython3",
   "version": "3.10.12"
  }
 },
 "nbformat": 4,
 "nbformat_minor": 5
}
