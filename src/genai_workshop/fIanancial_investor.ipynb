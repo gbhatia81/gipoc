{
 "cells": [
  {
   "cell_type": "markdown",
   "id": "1c9846d5",
   "metadata": {},
   "source": [
    "\n",
    "\n",
    "\n",
    "# Exercise - Build AI investor\n",
    "We've gained some insights into Publicis Groupe and Omnicom Group through analyzing their annual reports. Now, we're ready to delve deeper into a fundamental analysis of these two companies and explore ways to automate trade submissions based on our findings.\n",
    "\n",
    "## Exercise Overview and purpose\n",
    "([Refer to this example for using langchain agents](example/langchain_agent_example.ipynb))\n",
    " \n",
    "This exercise is designed to understand how langchain agents work. It creates an AI-based agent to submit trade based on fundamental analysis. The agent should perform following tasks for a given ```ticker``` : \n",
    "\n",
    "[Refer to these functions](utilities/stock_utils.py)\n",
    "   - Get historic stock prices \n",
    "   - Get the financial statement\n",
    "   - Submit a buy or sell order based on this analysis. \n",
    "  \n",
    "\n",
    "\n",
    "\n",
    "\n"
   ]
  },
  {
   "cell_type": "markdown",
   "id": "bc4648a1",
   "metadata": {},
   "source": [
    "### Task 1. Create tool for fetching last 5 days Stock Data for a given ticker \n",
    "Create a tool to retrieve historical stock data from Yahoo Finance. This tool will provide the agent access to price trends, volumes, and other relevant financial metrics.\n",
    "\n",
    "> 10 mins"
   ]
  },
  {
   "cell_type": "code",
   "execution_count": null,
   "id": "d965d979",
   "metadata": {},
   "outputs": [],
   "source": []
  },
  {
   "cell_type": "markdown",
   "id": "d5261c5b",
   "metadata": {},
   "source": [
    "\n",
    "### Task 2. Create tool for fetching financial statement from yahoo finance for a given ticker\n",
    "\n",
    "> 10 mins"
   ]
  },
  {
   "cell_type": "code",
   "execution_count": null,
   "id": "88ba6d49",
   "metadata": {},
   "outputs": [],
   "source": []
  },
  {
   "cell_type": "markdown",
   "id": "00cc7502",
   "metadata": {},
   "source": [
    "### Task 3. Create mock functions to submit buy or sell order for a given ticker \n",
    "\n",
    "> 10 mins"
   ]
  },
  {
   "cell_type": "code",
   "execution_count": null,
   "id": "f797d163",
   "metadata": {},
   "outputs": [],
   "source": []
  },
  {
   "cell_type": "markdown",
   "id": "b425cce5",
   "metadata": {},
   "source": [
    "\n",
    "### Task 4. Consolidate all the tools created above into a Toolkit\n",
    "Create toolkit using tools. This toolkit will form the backbone of the agent's data-gathering capabilities.\n",
    "\n",
    "> 15 mins\n"
   ]
  },
  {
   "cell_type": "code",
   "execution_count": null,
   "id": "c485befe",
   "metadata": {},
   "outputs": [],
   "source": []
  },
  {
   "cell_type": "markdown",
   "id": "c1e017ae",
   "metadata": {},
   "source": [
    "### Task 5. Initialize agent with the tool kit created above\n",
    "\n",
    "```\n",
    "zero_shot_agent = initialize_agent(\n",
    "        llm=get_openai_gpt3_16k_chat_model(),\n",
    "        agent=\"zero-shot-react-description\",\n",
    "        tools=tools,\n",
    "        verbose=False,\n",
    "        max_iteration=4,\n",
    "        return_intermediate_steps=True,\n",
    "        handle_parsing_errors=True,\n",
    "    )\n",
    "```\n",
    "\n",
    "> 5"
   ]
  },
  {
   "cell_type": "code",
   "execution_count": null,
   "id": "cd6f6c7f",
   "metadata": {},
   "outputs": [],
   "source": []
  },
  {
   "cell_type": "markdown",
   "id": "84445190",
   "metadata": {},
   "source": [
    "\n",
    "### Task 6. Create custom Agent Prompt which uses the defined tools to perform fundamental analysis and submit trade based on the final analysis\n",
    "\n",
    "Design a prompt to guide the agent's analysis and define clear evaluation steps. This will ensure that the agent's analysis is structured, comprehensive, and aligned with the investor's decision-making process.\n",
    "\n",
    "> 10 mins"
   ]
  },
  {
   "cell_type": "code",
   "execution_count": null,
   "id": "4a03e2c9",
   "metadata": {},
   "outputs": [],
   "source": []
  },
  {
   "cell_type": "markdown",
   "id": "4891fe00",
   "metadata": {},
   "source": [
    "\n",
    "### Task 7. Assign the prompt created above to agent\n",
    "\n",
    "> 1 min"
   ]
  },
  {
   "cell_type": "code",
   "execution_count": null,
   "id": "a66b7af1",
   "metadata": {},
   "outputs": [],
   "source": []
  },
  {
   "cell_type": "markdown",
   "id": "af50b9c3",
   "metadata": {},
   "source": [
    "\n",
    "### Task 8. Use agent to perform fundamental analysis and submit trade based on the ticker provided. \n",
    "\n",
    "> 10 mins"
   ]
  },
  {
   "cell_type": "code",
   "execution_count": null,
   "id": "e22a0a7b",
   "metadata": {},
   "outputs": [],
   "source": []
  }
 ],
 "metadata": {
  "kernelspec": {
   "display_name": "Python 3 (ipykernel)",
   "language": "python",
   "name": "python3"
  },
  "language_info": {
   "codemirror_mode": {
    "name": "ipython",
    "version": 3
   },
   "file_extension": ".py",
   "mimetype": "text/x-python",
   "name": "python",
   "nbconvert_exporter": "python",
   "pygments_lexer": "ipython3",
   "version": "3.10.12"
  }
 },
 "nbformat": 4,
 "nbformat_minor": 5
}
