{
 "cells": [
  {
   "cell_type": "markdown",
   "id": "220a53a6",
   "metadata": {},
   "source": [
    "### Test 1 -  Python(3.10) and pip version(~22.0.2) "
   ]
  },
  {
   "cell_type": "code",
   "execution_count": 1,
   "id": "f8a1cb4b",
   "metadata": {},
   "outputs": [
    {
     "name": "stdout",
     "output_type": "stream",
     "text": [
      "pip 22.0.2 from /usr/lib/python3/dist-packages/pip (python 3.10)\n"
     ]
    }
   ],
   "source": [
    "!pip -V"
   ]
  },
  {
   "cell_type": "markdown",
   "id": "102d4744",
   "metadata": {},
   "source": [
    "### Test 2 -  External lib imports"
   ]
  },
  {
   "cell_type": "code",
   "execution_count": 2,
   "id": "405143f1",
   "metadata": {},
   "outputs": [
    {
     "name": "stderr",
     "output_type": "stream",
     "text": [
      "/usr/local/lib/python3.10/dist-packages/tqdm/auto.py:21: TqdmWarning: IProgress not found. Please update jupyter and ipywidgets. See https://ipywidgets.readthedocs.io/en/stable/user_install.html\n",
      "  from .autonotebook import tqdm as notebook_tqdm\n"
     ]
    }
   ],
   "source": [
    "\n",
    "from pprint import pprint \n",
    "from langchain_core.prompts import ChatPromptTemplate\n",
    "from langchain import hub\n",
    "from langchain.text_splitter import RecursiveCharacterTextSplitter\n",
    "from langchain_community.document_loaders import WebBaseLoader\n",
    "from langchain_community.vectorstores import Chroma\n",
    "from langchain_core.output_parsers import StrOutputParser\n",
    "from langchain_core.runnables import RunnablePassthrough\n",
    "from langchain_openai import ChatOpenAI, OpenAIEmbeddings\n",
    "from langchain.llms import OpenAI\n",
    "from langchain.agents import Tool, initialize_agent\n",
    "from langchain.chat_models import ChatOpenAI\n",
    "from langchain.tools import DuckDuckGoSearchRun\n",
    "from langchain.utilities import WikipediaAPIWrapper\n",
    "from langchain import OpenAI, LLMMathChain\n",
    "from langchain.chains import LLMChain\n",
    "from langchain.agents.agent_types import AgentType\n",
    "from prompt_utils.openai_utils import get_openai_chat_model\n",
    "import os\n",
    "import json\n",
    "import openai\n",
    "from datetime import datetime, timedelta\n",
    "from langchain.chat_models import ChatOpenAI\n",
    "from langchain.schema import HumanMessage, AIMessage, ChatMessage\n",
    "from langchain_community.document_loaders import YoutubeLoader\n",
    "from langchain.text_splitter import RecursiveCharacterTextSplitter\n",
    "from langchain.chains import RetrievalQA\n",
    "import time\n",
    "import gradio as gr"
   ]
  },
  {
   "cell_type": "markdown",
   "id": "5d509c38",
   "metadata": {},
   "source": [
    "### Test 3- Local module imports"
   ]
  },
  {
   "cell_type": "code",
   "execution_count": 3,
   "id": "70283426",
   "metadata": {},
   "outputs": [
    {
     "ename": "ImportError",
     "evalue": "cannot import name 'clean_text' from 'utilities.text_utils' (/workspaces/genai-ws-main/genai_workshop/utilities/text_utils.py)",
     "output_type": "error",
     "traceback": [
      "\u001b[0;31m---------------------------------------------------------------------------\u001b[0m",
      "\u001b[0;31mImportError\u001b[0m                               Traceback (most recent call last)",
      "Cell \u001b[0;32mIn[3], line 5\u001b[0m\n\u001b[1;32m      3\u001b[0m \u001b[38;5;28;01mfrom\u001b[39;00m \u001b[38;5;21;01mps_utils\u001b[39;00m\u001b[38;5;21;01m.\u001b[39;00m\u001b[38;5;21;01mPSChat\u001b[39;00m \u001b[38;5;28;01mimport\u001b[39;00m PSChat\n\u001b[1;32m      4\u001b[0m \u001b[38;5;28;01mfrom\u001b[39;00m \u001b[38;5;21;01mps_utils\u001b[39;00m\u001b[38;5;21;01m.\u001b[39;00m\u001b[38;5;21;01mPSChat\u001b[39;00m \u001b[38;5;28;01mimport\u001b[39;00m PS_Chat_model\n\u001b[0;32m----> 5\u001b[0m \u001b[38;5;28;01mfrom\u001b[39;00m \u001b[38;5;21;01mutilities\u001b[39;00m\u001b[38;5;21;01m.\u001b[39;00m\u001b[38;5;21;01mtext_utils\u001b[39;00m \u001b[38;5;28;01mimport\u001b[39;00m clean_text\n\u001b[1;32m      6\u001b[0m \u001b[38;5;28;01mfrom\u001b[39;00m \u001b[38;5;21;01mutilities2\u001b[39;00m\u001b[38;5;21;01m.\u001b[39;00m\u001b[38;5;21;01mstock_utils\u001b[39;00m \u001b[38;5;28;01mimport\u001b[39;00m buy_order\n",
      "\u001b[0;31mImportError\u001b[0m: cannot import name 'clean_text' from 'utilities.text_utils' (/workspaces/genai-ws-main/genai_workshop/utilities/text_utils.py)"
     ]
    }
   ],
   "source": [
    "from prompt_utils.openai_utils import get_completion\n",
    "from ps_utils.PSChat import pschat\n",
    "from ps_utils.PSChat import PSChat\n",
    "from ps_utils.PSChat import PS_Chat_model\n",
    "from utilities.text_utils import clean_text\n",
    "from utilities2.stock_utils import buy_order"
   ]
  },
  {
   "cell_type": "markdown",
   "id": "d883c8f9",
   "metadata": {},
   "source": [
    "### Test 4 - Simple API call with pschat function"
   ]
  },
  {
   "cell_type": "code",
   "execution_count": 4,
   "id": "77b45037",
   "metadata": {},
   "outputs": [
    {
     "name": "stdout",
     "output_type": "stream",
     "text": [
      "('You can create a new class in Java using the `class` keyword. Here is a very '\n",
      " 'basic example:\\n'\n",
      " '\\n'\n",
      " '```java\\n'\n",
      " 'public class MyClass {\\n'\n",
      " '    // Class body\\n'\n",
      " '}\\n'\n",
      " '```\\n'\n",
      " '\\n'\n",
      " 'In this example, `MyClass` is the name of the class. The class name should '\n",
      " 'start with a capital letter, and it should be a noun (as it represents an '\n",
      " 'object).\\n'\n",
      " '\\n'\n",
      " 'In the class body, you can declare fields, methods, and constructors for the '\n",
      " 'class.\\n'\n",
      " '\\n'\n",
      " \"Let's add a field (a variable that belongs to the class) and a method (a \"\n",
      " 'function that belongs to the class) to the class:\\n'\n",
      " '\\n'\n",
      " '```java\\n'\n",
      " 'public class MyClass {\\n'\n",
      " '    // Field \\n'\n",
      " '    int x;\\n'\n",
      " '\\n'\n",
      " '    // Method\\n'\n",
      " '    public void myMethod() {\\n'\n",
      " '        System.out.println(\"Hello World\");\\n'\n",
      " '    }\\n'\n",
      " '}\\n'\n",
      " '```\\n'\n",
      " '\\n'\n",
      " 'To use this class, you can create an object of the class:\\n'\n",
      " '\\n'\n",
      " '```java\\n'\n",
      " 'public class Main {\\n'\n",
      " '    public static void main(String[] args) {\\n'\n",
      " '        MyClass myObject = new MyClass();  // Create an object of MyClass\\n'\n",
      " '        myObject.myMethod();  // Call the method\\n'\n",
      " '    }\\n'\n",
      " '}\\n'\n",
      " '```\\n'\n",
      " '\\n'\n",
      " 'So when you run the `Main` class, it will create an object of the `MyClass` '\n",
      " 'class and call the `myMethod` method, which will print out `Hello World`.')\n"
     ]
    }
   ],
   "source": [
    "response = pschat(prompt=\"How to create a new class in Java?\",\n",
    "    model='gpt4',\n",
    "    temperature=0.1\n",
    "    ,assistant=\"You are a Senior developer, Answer based on your knowledge of Java.\"\n",
    "    )\n",
    "pprint(response)"
   ]
  },
  {
   "cell_type": "markdown",
   "id": "3c342c61",
   "metadata": {},
   "source": [
    "### Test 5 - PSChat as LLM"
   ]
  },
  {
   "cell_type": "code",
   "execution_count": 5,
   "id": "189e06a8",
   "metadata": {},
   "outputs": [],
   "source": [
    "llm = PSChat(temperature=0)"
   ]
  },
  {
   "cell_type": "code",
   "execution_count": 6,
   "id": "3d9a720f",
   "metadata": {},
   "outputs": [
    {
     "data": {
      "text/plain": [
       "\"A Large Language Model (LLM) is a type of artificial intelligence system that is trained on massive amounts of language data to understand and generate human-like language. These models use deep learning and neural networks to analyze and process complex language patterns.\\n\\nLLMs have become increasingly popular in recent years due to their ability to perform a wide range of natural language processing tasks, such as language translation, question answering, summarization, and text generation. The most well-known LLMs are OpenAI's GPT-3 (Generative Pre-trained Transformer 3) and Google's BERT (Bidirectional Encoder Representations from Transformers).\\n\\nLLMs are typically pre-trained on large amounts of text data from a variety of sources, such as books, articles, and websites. This pre-training helps the model to learn the nuances of language and grammar that it can then use to generate human-like text in response to specific prompts.\\n\\nOverall, LLMs are powerful language models that have the potential to revolutionize the way we interact with language and computers.\""
      ]
     },
     "execution_count": 6,
     "metadata": {},
     "output_type": "execute_result"
    }
   ],
   "source": [
    "llm.invoke(\"tell me about large language model?\")"
   ]
  },
  {
   "cell_type": "markdown",
   "id": "8487358d",
   "metadata": {},
   "source": []
  },
  {
   "cell_type": "markdown",
   "id": "1e242b9e",
   "metadata": {},
   "source": [
    "### Test 6 - PS_Chat_Model as langchain Chat model "
   ]
  },
  {
   "cell_type": "code",
   "execution_count": 7,
   "id": "f23200df",
   "metadata": {},
   "outputs": [],
   "source": [
    "chat_model=PS_Chat_model()"
   ]
  },
  {
   "cell_type": "code",
   "execution_count": 8,
   "id": "d6d4688b",
   "metadata": {},
   "outputs": [
    {
     "data": {
      "text/plain": [
       "AIMessage(content='Langsmith can help with testing in the following ways:\\n\\n1. Test case generation: Langsmith can generate test cases automatically based on the specifications or requirements of the system. It uses natural language processing techniques to analyze the requirements and generate test inputs that exercise different scenarios.\\n\\n2. Test coverage analysis: Langsmith can analyze the test cases and provide insights into the coverage of the system under test. It can help identify areas that have lower coverage and suggest additional test cases to improve coverage.\\n\\n3. Test result analysis: Langsmith can analyze the results of test executions and provide insights into the overall quality of the system. It can identify patterns and trends in the test results, such as common failures or areas of instability, to help in debugging and improving the system.\\n\\n4. Test automation: Langsmith can help in automating test execution by providing tools or frameworks to write and run test scripts. It can integrate with existing testing frameworks and provide additional capabilities for test management and reporting.\\n\\n5. Test data generation: Langsmith can generate realistic and diverse test data to ensure that tests cover a wide range of scenarios. It can help in identifying and generating test data that is representative of real-world usage patterns to uncover potential issues early in the testing process.\\n\\nOverall, Langsmith aims to assist testers in improving the effectiveness and efficiency of their testing efforts by automating repetitive tasks, providing insights, and facilitating the generation of high-quality test cases.')"
      ]
     },
     "execution_count": 8,
     "metadata": {},
     "output_type": "execute_result"
    }
   ],
   "source": [
    "prompt = ChatPromptTemplate.from_messages([\n",
    "    (\"user\", \"{input}\")\n",
    "])\n",
    "chain = prompt | chat_model \n",
    "chain.invoke({\"input\": \"how can langsmith help with testing?\"})"
   ]
  },
  {
   "cell_type": "markdown",
   "id": "fb1440ac",
   "metadata": {},
   "source": [
    "### !! Resolving issuses related to missing packages\n",
    "   \n",
    "```ImportError: Could not import youtube_transcript_api python package. Please install it with `pip install youtube-transcript-api`.```\n",
    "\n",
    "In case a package is missing : \n",
    "\n",
    "1. Install the missing packages from terminal\n",
    "\n",
    "   ```pip install <package-name>```\n",
    "\n",
    "\n",
    "2. Restart the notebook kernel \n",
    "3. It is possible to see the error again because of another package dependency (repeat step 1 and 2 ) "
   ]
  },
  {
   "cell_type": "code",
   "execution_count": 9,
   "id": "40e852c2",
   "metadata": {},
   "outputs": [
    {
     "ename": "ImportError",
     "evalue": "Could not import youtube_transcript_api python package. Please install it with `pip install youtube-transcript-api`.",
     "output_type": "error",
     "traceback": [
      "\u001b[0;31m---------------------------------------------------------------------------\u001b[0m",
      "\u001b[0;31mModuleNotFoundError\u001b[0m                       Traceback (most recent call last)",
      "File \u001b[0;32m/usr/local/lib/python3.10/dist-packages/langchain_community/document_loaders/youtube.py:183\u001b[0m, in \u001b[0;36mYoutubeLoader.load\u001b[0;34m(self)\u001b[0m\n\u001b[1;32m    182\u001b[0m \u001b[38;5;28;01mtry\u001b[39;00m:\n\u001b[0;32m--> 183\u001b[0m     \u001b[38;5;28;01mfrom\u001b[39;00m \u001b[38;5;21;01myoutube_transcript_api\u001b[39;00m \u001b[38;5;28;01mimport\u001b[39;00m (\n\u001b[1;32m    184\u001b[0m         NoTranscriptFound,\n\u001b[1;32m    185\u001b[0m         TranscriptsDisabled,\n\u001b[1;32m    186\u001b[0m         YouTubeTranscriptApi,\n\u001b[1;32m    187\u001b[0m     )\n\u001b[1;32m    188\u001b[0m \u001b[38;5;28;01mexcept\u001b[39;00m \u001b[38;5;167;01mImportError\u001b[39;00m:\n",
      "\u001b[0;31mModuleNotFoundError\u001b[0m: No module named 'youtube_transcript_api'",
      "\nDuring handling of the above exception, another exception occurred:\n",
      "\u001b[0;31mImportError\u001b[0m                               Traceback (most recent call last)",
      "Cell \u001b[0;32mIn[9], line 8\u001b[0m\n\u001b[1;32m      1\u001b[0m \u001b[38;5;28;01mfrom\u001b[39;00m \u001b[38;5;21;01mlangchain_community\u001b[39;00m\u001b[38;5;21;01m.\u001b[39;00m\u001b[38;5;21;01mdocument_loaders\u001b[39;00m \u001b[38;5;28;01mimport\u001b[39;00m YoutubeLoader\n\u001b[1;32m      2\u001b[0m loader \u001b[38;5;241m=\u001b[39m YoutubeLoader\u001b[38;5;241m.\u001b[39mfrom_youtube_url(\n\u001b[1;32m      3\u001b[0m     \u001b[38;5;124m\"\u001b[39m\u001b[38;5;124mhttps://www.youtube.com/watch?v=_v_ZAtc06Jk\u001b[39m\u001b[38;5;124m\"\u001b[39m,\n\u001b[1;32m      4\u001b[0m     add_video_info\u001b[38;5;241m=\u001b[39m\u001b[38;5;28;01mTrue\u001b[39;00m,\n\u001b[1;32m      5\u001b[0m     language\u001b[38;5;241m=\u001b[39m[\u001b[38;5;124m\"\u001b[39m\u001b[38;5;124men\u001b[39m\u001b[38;5;124m\"\u001b[39m, \u001b[38;5;124m\"\u001b[39m\u001b[38;5;124mid\u001b[39m\u001b[38;5;124m\"\u001b[39m],\n\u001b[1;32m      6\u001b[0m     translation\u001b[38;5;241m=\u001b[39m\u001b[38;5;124m\"\u001b[39m\u001b[38;5;124men\u001b[39m\u001b[38;5;124m\"\u001b[39m,\n\u001b[1;32m      7\u001b[0m )\n\u001b[0;32m----> 8\u001b[0m subtitles_data \u001b[38;5;241m=\u001b[39m \u001b[43mloader\u001b[49m\u001b[38;5;241;43m.\u001b[39;49m\u001b[43mload\u001b[49m\u001b[43m(\u001b[49m\u001b[43m)\u001b[49m\n\u001b[1;32m      9\u001b[0m \u001b[38;5;28mlen\u001b[39m(subtitles_data[\u001b[38;5;241m0\u001b[39m]\u001b[38;5;241m.\u001b[39mpage_content)\n",
      "File \u001b[0;32m/usr/local/lib/python3.10/dist-packages/langchain_community/document_loaders/youtube.py:189\u001b[0m, in \u001b[0;36mYoutubeLoader.load\u001b[0;34m(self)\u001b[0m\n\u001b[1;32m    183\u001b[0m     \u001b[38;5;28;01mfrom\u001b[39;00m \u001b[38;5;21;01myoutube_transcript_api\u001b[39;00m \u001b[38;5;28;01mimport\u001b[39;00m (\n\u001b[1;32m    184\u001b[0m         NoTranscriptFound,\n\u001b[1;32m    185\u001b[0m         TranscriptsDisabled,\n\u001b[1;32m    186\u001b[0m         YouTubeTranscriptApi,\n\u001b[1;32m    187\u001b[0m     )\n\u001b[1;32m    188\u001b[0m \u001b[38;5;28;01mexcept\u001b[39;00m \u001b[38;5;167;01mImportError\u001b[39;00m:\n\u001b[0;32m--> 189\u001b[0m     \u001b[38;5;28;01mraise\u001b[39;00m \u001b[38;5;167;01mImportError\u001b[39;00m(\n\u001b[1;32m    190\u001b[0m         \u001b[38;5;124m\"\u001b[39m\u001b[38;5;124mCould not import youtube_transcript_api python package. \u001b[39m\u001b[38;5;124m\"\u001b[39m\n\u001b[1;32m    191\u001b[0m         \u001b[38;5;124m\"\u001b[39m\u001b[38;5;124mPlease install it with `pip install youtube-transcript-api`.\u001b[39m\u001b[38;5;124m\"\u001b[39m\n\u001b[1;32m    192\u001b[0m     )\n\u001b[1;32m    194\u001b[0m metadata \u001b[38;5;241m=\u001b[39m {\u001b[38;5;124m\"\u001b[39m\u001b[38;5;124msource\u001b[39m\u001b[38;5;124m\"\u001b[39m: \u001b[38;5;28mself\u001b[39m\u001b[38;5;241m.\u001b[39mvideo_id}\n\u001b[1;32m    196\u001b[0m \u001b[38;5;28;01mif\u001b[39;00m \u001b[38;5;28mself\u001b[39m\u001b[38;5;241m.\u001b[39madd_video_info:\n\u001b[1;32m    197\u001b[0m     \u001b[38;5;66;03m# Get more video meta info\u001b[39;00m\n\u001b[1;32m    198\u001b[0m     \u001b[38;5;66;03m# Such as title, description, thumbnail url, publish_date\u001b[39;00m\n",
      "\u001b[0;31mImportError\u001b[0m: Could not import youtube_transcript_api python package. Please install it with `pip install youtube-transcript-api`."
     ]
    }
   ],
   "source": [
    "from langchain_community.document_loaders import YoutubeLoader\n",
    "loader = YoutubeLoader.from_youtube_url(\n",
    "    \"https://www.youtube.com/watch?v=_v_ZAtc06Jk\",\n",
    "    add_video_info=True,\n",
    "    language=[\"en\", \"id\"],\n",
    "    translation=\"en\",\n",
    ")\n",
    "subtitles_data = loader.load()\n",
    "len(subtitles_data[0].page_content)"
   ]
  }
 ],
 "metadata": {
  "kernelspec": {
   "display_name": "Python 3 (ipykernel)",
   "language": "python",
   "name": "python3"
  },
  "language_info": {
   "codemirror_mode": {
    "name": "ipython",
    "version": 3
   },
   "file_extension": ".py",
   "mimetype": "text/x-python",
   "name": "python",
   "nbconvert_exporter": "python",
   "pygments_lexer": "ipython3",
   "version": "3.10.12"
  }
 },
 "nbformat": 4,
 "nbformat_minor": 5
}
