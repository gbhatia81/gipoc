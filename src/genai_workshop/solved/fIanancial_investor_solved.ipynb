{
 "cells": [
  {
   "cell_type": "markdown",
   "id": "1c9846d5",
   "metadata": {},
   "source": [
    "\n",
    "\n",
    "\n",
    "# Exercise - Build AI investor\n",
    "We've gained some insights into Publicis Groupe and Omnicom Group through analyzing their annual reports. Now, we're ready to delve deeper into a fundamental analysis of these two companies and explore ways to automate trade submissions based on our findings.\n",
    "\n",
    "## Exercise Overview and purpose\n",
    "([Refer to this example for using langchain agents](example/langchain_agent_example.ipynb))\n",
    " \n",
    "This exercise is designed to understand how langchain agents work. It creates an AI-based agent to submit trade based on fundamental analysis. The agent should perform following tasks for a given ```ticker``` : \n",
    "\n",
    "[Refer to these functions](utilities/stock_utils.py)\n",
    "   - Get historic stock prices \n",
    "   - Get the financial statement\n",
    "   - Submit a buy or sell order based on this analysis. \n",
    "  \n",
    "\n",
    "\n",
    "\n",
    "\n"
   ]
  },
  {
   "cell_type": "markdown",
   "id": "bc4648a1",
   "metadata": {},
   "source": [
    "### Task 1. Create tool for fetching last 5 days Stock Data for a given ticker \n",
    "Create a tool to retrieve historical stock data from Yahoo Finance. This tool will provide the agent access to price trends, volumes, and other relevant financial metrics.\n",
    "\n",
    "> 10 mins"
   ]
  },
  {
   "cell_type": "code",
   "execution_count": null,
   "id": "d965d979",
   "metadata": {},
   "outputs": [],
   "source": [
    "ticker = 'PUB.PA'\n",
    "\n",
    "from utilities2.stock_utils import get_historical_stock_data\n",
    "print(get_historical_stock_data(ticker))"
   ]
  },
  {
   "cell_type": "markdown",
   "id": "d5261c5b",
   "metadata": {},
   "source": [
    "\n",
    "### Task 2. Create tool for fetching financial statement from yahoo finance for a given ticker\n",
    "\n",
    "> 10 mins"
   ]
  },
  {
   "cell_type": "code",
   "execution_count": null,
   "id": "88ba6d49",
   "metadata": {},
   "outputs": [],
   "source": [
    "from utilities2.stock_utils import get_detail_statement\n",
    "print(get_detail_statement(ticker))"
   ]
  },
  {
   "cell_type": "markdown",
   "id": "00cc7502",
   "metadata": {},
   "source": [
    "### Task 3. Create mock functions to submit buy or sell order for a given ticker \n",
    "\n",
    "> 10 mins"
   ]
  },
  {
   "cell_type": "code",
   "execution_count": null,
   "id": "f797d163",
   "metadata": {},
   "outputs": [],
   "source": []
  },
  {
   "cell_type": "markdown",
   "id": "b425cce5",
   "metadata": {},
   "source": [
    "\n",
    "### Task 4. Consolidate all the tools created above into a Toolkit\n",
    "Create toolkit using tools. This toolkit will form the backbone of the agent's data-gathering capabilities.\n",
    "\n",
    "> 15 mins\n"
   ]
  },
  {
   "cell_type": "code",
   "execution_count": null,
   "id": "c485befe",
   "metadata": {},
   "outputs": [],
   "source": [
    "from langchain.chat_models import ChatOpenAI\n",
    "from utilities2.stock_utils import (\n",
    "    buy_order,\n",
    "    get_historical_stock_data,\n",
    "    get_detail_statement,\n",
    "    sell_order,\n",
    ")\n",
    "from langchain.agents import Tool, initialize_agent\n",
    "\n",
    "\n",
    "llm_model = ChatOpenAI(model_name=\"gpt-4\", temperature=0)\n",
    "\n",
    "def stock_tool_list():\n",
    "    # tool list\n",
    "    tools = [\n",
    "        Tool(\n",
    "            name=\"GetStockData\",\n",
    "            func=get_historical_stock_data,\n",
    "            description=\"Use when you are asked to evaluate or analyze a stock. This will output historic share price data. You should input the the stock ticker to it \",\n",
    "        ),\n",
    "        Tool(\n",
    "            name=\"GetFinancialStatements\",\n",
    "            func=get_detail_statement,\n",
    "            description=\"Use this to get financial statement of the company. With the help of this data companys historic performance can be evaluaated. You should input stock ticker to it\",\n",
    "        ),\n",
    "        Tool(\n",
    "            name=\"SubmitBuyOrder\",\n",
    "            func=buy_order,\n",
    "            description=\"Use this to submit a buy order based for the company which is performing good, based on the fundamental analysis. With the help of this a buy order can be submitted on stock exchange. You should input stock ticker to it\",\n",
    "        ),\n",
    "        Tool(\n",
    "            name=\"SubmitSellOrder\",\n",
    "            func=sell_order,\n",
    "            description=\"Use this to submit a sell order based for the company which is under performing, based on the fundamental analysis. With the help of this a sell order can be submitted on stock exchange. You should input stock ticker to it\",\n",
    "        ),\n",
    "    ]\n",
    "\n",
    "    return tools"
   ]
  },
  {
   "cell_type": "markdown",
   "id": "c1e017ae",
   "metadata": {},
   "source": [
    "### Task 5. Initialize agent with the tool kit created above\n",
    "\n",
    "```\n",
    "zero_shot_agent = initialize_agent(\n",
    "        llm=get_openai_gpt3_16k_chat_model(),\n",
    "        agent=\"zero-shot-react-description\",\n",
    "        tools=tools,\n",
    "        verbose=False,\n",
    "        max_iteration=4,\n",
    "        return_intermediate_steps=True,\n",
    "        handle_parsing_errors=True,\n",
    "    )\n",
    "```\n",
    "\n",
    "> 5"
   ]
  },
  {
   "cell_type": "code",
   "execution_count": null,
   "id": "cd6f6c7f",
   "metadata": {},
   "outputs": [],
   "source": [
    "\n",
    "def get_agent(tools):\n",
    "    zero_shot_agent = initialize_agent(\n",
    "        llm=llm_model,\n",
    "        agent=\"zero-shot-react-description\",\n",
    "        tools=tools,\n",
    "        verbose=True,\n",
    "        max_iteration=4,\n",
    "        #return_intermediate_steps=True,\n",
    "        handle_parsing_errors=True,\n",
    "    )\n",
    "\n",
    "    print(zero_shot_agent.agent.llm_chain.prompt.template)\n",
    "\n",
    "    return zero_shot_agent\n",
    "\n",
    "\n",
    "agent = get_agent(stock_tool_list());"
   ]
  },
  {
   "cell_type": "markdown",
   "id": "84445190",
   "metadata": {},
   "source": [
    "\n",
    "### Task 6. Create custom Agent Prompt which uses the defined tools to perform fundamental analysis and submit trade based on the final analysis\n",
    "\n",
    "Design a prompt to guide the agent's analysis and define clear evaluation steps. This will ensure that the agent's analysis is structured, comprehensive, and aligned with the investor's decision-making process.\n",
    "\n",
    "> 10 mins"
   ]
  },
  {
   "cell_type": "code",
   "execution_count": null,
   "id": "4a03e2c9",
   "metadata": {},
   "outputs": [],
   "source": [
    "\n",
    "\n",
    "def stock_agent_prompt_template():\n",
    "    prompt = \"\"\"As a financial advisor, your role is to offer stock recommendations upon receiving a ticker symbol and a request for analysis or fundamental examination. \n",
    "    Your responses should be as comprehensive as possible, leveraging the tools available to you:\n",
    "\n",
    "    GetStockData: Deploy this tool for assessing or analyzing a stock by inputting the stock ticker. This action retrieves historical share price data, which is crucial for the initial phase of your analysis.\n",
    "\n",
    "    GetFinancialStatements: Utilize this tool to obtain the financial statements of the company. These documents are instrumental in evaluating the company's historical performance. Input the stock ticker to access this data.\n",
    "\n",
    "    SubmitBuyOrder: If your fundamental analysis indicates that the company's prospects are positive, use this tool to place a buy order. Input the stock ticker for the company you've decided is a worthwhile investment.\n",
    "\n",
    "    SubmitSellOrder: Conversely, if your fundamental analysis suggests that the company is underperforming, you should use this tool to issue a sell order. Input the stock ticker for the company you believe should be sold off.\n",
    "\n",
    "    Steps for Analysis:\n",
    "\n",
    "    Step 1: Begin with the GetStockData tool to compile information on the stock. Output: Stock data.\n",
    "\n",
    "    Step 2: Acquire the company's historical financial data by using GetFinancialStatements tool. Output: Financial statement.\n",
    "\n",
    "    Step 3: Based on the company's performance and your investment analysis from the previous steps, decide whether to use SubmitBuyOrder tool or SubmitSellOrder tool. Justify your decision with reasons. Output: Confirmation of whether a Sell order or Buy order has been placed.\n",
    "\n",
    "    Note: If you encounter any issues with a step, proceed to the next one. Your goal is to use these tools methodically to provide informed stock recommendations.\n",
    "\n",
    "    Use the following format:\n",
    "\n",
    "    Question: the input question you must answer\n",
    "    Thought: you should always think about what to do, Also try to follow steps mentioned above\n",
    "    Action: the action to take, should be one of [GetStockData, GetFinancialStatements, SubmitBuyOrder, SubmitSellOrder]\n",
    "    Action Input: the input to the action\n",
    "    Observation: the result of the action\n",
    "    ... (this Thought/Action/Action Input/Observation can repeat N times)\n",
    "    Thought: I now know the final answer\n",
    "    Final Answer: the final answer to the original input question\n",
    "    Begin!\n",
    "\n",
    "    Question: {input}\n",
    "    Thought:{agent_scratchpad}\"\"\"\n",
    "\n",
    "    return prompt\n"
   ]
  },
  {
   "cell_type": "markdown",
   "id": "4891fe00",
   "metadata": {},
   "source": [
    "\n",
    "### Task 7. Assign the prompt created above to agent\n",
    "\n",
    "> 1 min"
   ]
  },
  {
   "cell_type": "code",
   "execution_count": null,
   "id": "a66b7af1",
   "metadata": {},
   "outputs": [],
   "source": [
    "agent.agent.llm_chain.prompt.template = stock_agent_prompt_template()\n",
    "print(agent.agent.llm_chain.prompt.template)"
   ]
  },
  {
   "cell_type": "markdown",
   "id": "af50b9c3",
   "metadata": {},
   "source": [
    "\n",
    "### Task 8. Use agent to perform fundamental analysis and submit trade based on the ticker provided. \n",
    "\n",
    "> 10 mins"
   ]
  },
  {
   "cell_type": "code",
   "execution_count": null,
   "id": "e22a0a7b",
   "metadata": {},
   "outputs": [],
   "source": [
    "#agent(\"Submit a buy or sell order based on your fundamental analysis of PUB.PA\")\n",
    "agent(\"Perform fundamental analysis of PUB.PA and OMC. Compare the fundamental analysis of these two organization and submit a buy or sell order accordingly\")\n"
   ]
  }
 ],
 "metadata": {
  "kernelspec": {
   "display_name": "Python 3 (ipykernel)",
   "language": "python",
   "name": "python3"
  },
  "language_info": {
   "codemirror_mode": {
    "name": "ipython",
    "version": 3
   },
   "file_extension": ".py",
   "mimetype": "text/x-python",
   "name": "python",
   "nbconvert_exporter": "python",
   "pygments_lexer": "ipython3",
   "version": "3.10.12"
  }
 },
 "nbformat": 4,
 "nbformat_minor": 5
}
